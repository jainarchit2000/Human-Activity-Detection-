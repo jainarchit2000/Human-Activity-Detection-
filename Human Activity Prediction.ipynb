{
 "cells": [
  {
   "cell_type": "markdown",
   "metadata": {},
   "source": [
    "---\n",
    "<a id = Section3></a>\n",
    "# **1. Installing & Importing Libraries**\n",
    "---\n",
    "\n",
    "- This section is emphasised on installing and importing the necessary libraries that will be required."
   ]
  },
  {
   "cell_type": "markdown",
   "metadata": {},
   "source": [
    "### **Importing Libraries**\n",
    "\n",
    "- You can headstart with the basic libraries as imported inside the cell below.\n",
    "\n"
   ]
  },
  {
   "cell_type": "code",
   "execution_count": 1,
   "metadata": {},
   "outputs": [],
   "source": [
    "import pandas as pd\n",
    "import numpy as np\n",
    "import matplotlib.pyplot as plt\n",
    "import seaborn as sns\n",
    "from pandas_profiling import ProfileReport"
   ]
  },
  {
   "cell_type": "markdown",
   "metadata": {},
   "source": [
    "---\n",
    "<a name = Section4></a>\n",
    "# **2. Data Acquisition & Description**\n",
    "---"
   ]
  },
  {
   "cell_type": "code",
   "execution_count": 2,
   "metadata": {},
   "outputs": [
    {
     "data": {
      "text/html": [
       "<div>\n",
       "<style scoped>\n",
       "    .dataframe tbody tr th:only-of-type {\n",
       "        vertical-align: middle;\n",
       "    }\n",
       "\n",
       "    .dataframe tbody tr th {\n",
       "        vertical-align: top;\n",
       "    }\n",
       "\n",
       "    .dataframe thead th {\n",
       "        text-align: right;\n",
       "    }\n",
       "</style>\n",
       "<table border=\"1\" class=\"dataframe\">\n",
       "  <thead>\n",
       "    <tr style=\"text-align: right;\">\n",
       "      <th></th>\n",
       "      <th>rn</th>\n",
       "      <th>activity</th>\n",
       "      <th>tBodyAcc.mean.X</th>\n",
       "      <th>tBodyAcc.mean.Y</th>\n",
       "      <th>tBodyAcc.mean.Z</th>\n",
       "      <th>tBodyAcc.std.X</th>\n",
       "      <th>tBodyAcc.std.Y</th>\n",
       "      <th>tBodyAcc.std.Z</th>\n",
       "      <th>tBodyAcc.mad.X</th>\n",
       "      <th>tBodyAcc.mad.Y</th>\n",
       "      <th>...</th>\n",
       "      <th>fBodyBodyGyroJerkMag.meanFreq</th>\n",
       "      <th>fBodyBodyGyroJerkMag.skewness</th>\n",
       "      <th>fBodyBodyGyroJerkMag.kurtosis</th>\n",
       "      <th>angle.tBodyAccMean.gravity</th>\n",
       "      <th>angle.tBodyAccJerkMean.gravityMean</th>\n",
       "      <th>angle.tBodyGyroMean.gravityMean</th>\n",
       "      <th>angle.tBodyGyroJerkMean.gravityMean</th>\n",
       "      <th>angle.X.gravityMean</th>\n",
       "      <th>angle.Y.gravityMean</th>\n",
       "      <th>angle.Z.gravityMean</th>\n",
       "    </tr>\n",
       "  </thead>\n",
       "  <tbody>\n",
       "    <tr>\n",
       "      <th>0</th>\n",
       "      <td>9020</td>\n",
       "      <td>WALKING_UPSTAIRS</td>\n",
       "      <td>0.330</td>\n",
       "      <td>-0.00449</td>\n",
       "      <td>-0.0481</td>\n",
       "      <td>-0.395</td>\n",
       "      <td>-0.152</td>\n",
       "      <td>-0.196</td>\n",
       "      <td>-0.483</td>\n",
       "      <td>-0.131</td>\n",
       "      <td>...</td>\n",
       "      <td>0.395</td>\n",
       "      <td>-0.26000</td>\n",
       "      <td>-0.526</td>\n",
       "      <td>-0.03420</td>\n",
       "      <td>-0.633</td>\n",
       "      <td>-0.1710</td>\n",
       "      <td>0.6540</td>\n",
       "      <td>-0.556</td>\n",
       "      <td>0.294</td>\n",
       "      <td>0.2570</td>\n",
       "    </tr>\n",
       "    <tr>\n",
       "      <th>1</th>\n",
       "      <td>2646</td>\n",
       "      <td>WALKING</td>\n",
       "      <td>0.208</td>\n",
       "      <td>0.00554</td>\n",
       "      <td>-0.1150</td>\n",
       "      <td>-0.432</td>\n",
       "      <td>-0.122</td>\n",
       "      <td>-0.431</td>\n",
       "      <td>-0.470</td>\n",
       "      <td>-0.114</td>\n",
       "      <td>...</td>\n",
       "      <td>-0.119</td>\n",
       "      <td>0.11200</td>\n",
       "      <td>-0.171</td>\n",
       "      <td>0.72500</td>\n",
       "      <td>0.388</td>\n",
       "      <td>0.9420</td>\n",
       "      <td>-0.5880</td>\n",
       "      <td>-0.742</td>\n",
       "      <td>0.264</td>\n",
       "      <td>-0.0505</td>\n",
       "    </tr>\n",
       "    <tr>\n",
       "      <th>2</th>\n",
       "      <td>5516</td>\n",
       "      <td>SITTING</td>\n",
       "      <td>-0.413</td>\n",
       "      <td>0.25300</td>\n",
       "      <td>0.2230</td>\n",
       "      <td>-0.779</td>\n",
       "      <td>-0.569</td>\n",
       "      <td>-0.699</td>\n",
       "      <td>-0.797</td>\n",
       "      <td>-0.572</td>\n",
       "      <td>...</td>\n",
       "      <td>-0.268</td>\n",
       "      <td>-0.60800</td>\n",
       "      <td>-0.891</td>\n",
       "      <td>0.08430</td>\n",
       "      <td>0.917</td>\n",
       "      <td>-0.0414</td>\n",
       "      <td>0.0721</td>\n",
       "      <td>-0.434</td>\n",
       "      <td>-0.143</td>\n",
       "      <td>-0.2920</td>\n",
       "    </tr>\n",
       "    <tr>\n",
       "      <th>3</th>\n",
       "      <td>5499</td>\n",
       "      <td>STANDING</td>\n",
       "      <td>0.272</td>\n",
       "      <td>-0.02600</td>\n",
       "      <td>-0.1030</td>\n",
       "      <td>-0.997</td>\n",
       "      <td>-0.982</td>\n",
       "      <td>-0.983</td>\n",
       "      <td>-0.998</td>\n",
       "      <td>-0.981</td>\n",
       "      <td>...</td>\n",
       "      <td>0.354</td>\n",
       "      <td>-0.73500</td>\n",
       "      <td>-0.926</td>\n",
       "      <td>0.05260</td>\n",
       "      <td>0.121</td>\n",
       "      <td>-0.3380</td>\n",
       "      <td>0.2900</td>\n",
       "      <td>-0.854</td>\n",
       "      <td>0.170</td>\n",
       "      <td>-0.0555</td>\n",
       "    </tr>\n",
       "    <tr>\n",
       "      <th>4</th>\n",
       "      <td>4689</td>\n",
       "      <td>WALKING_UPSTAIRS</td>\n",
       "      <td>0.275</td>\n",
       "      <td>-0.03840</td>\n",
       "      <td>-0.0556</td>\n",
       "      <td>0.126</td>\n",
       "      <td>0.102</td>\n",
       "      <td>-0.044</td>\n",
       "      <td>0.104</td>\n",
       "      <td>0.101</td>\n",
       "      <td>...</td>\n",
       "      <td>0.430</td>\n",
       "      <td>-0.00277</td>\n",
       "      <td>-0.263</td>\n",
       "      <td>0.00825</td>\n",
       "      <td>-0.854</td>\n",
       "      <td>0.7730</td>\n",
       "      <td>-0.8300</td>\n",
       "      <td>-0.621</td>\n",
       "      <td>0.325</td>\n",
       "      <td>0.1480</td>\n",
       "    </tr>\n",
       "  </tbody>\n",
       "</table>\n",
       "<p>5 rows × 563 columns</p>\n",
       "</div>"
      ],
      "text/plain": [
       "     rn          activity  tBodyAcc.mean.X  tBodyAcc.mean.Y  tBodyAcc.mean.Z  \\\n",
       "0  9020  WALKING_UPSTAIRS            0.330         -0.00449          -0.0481   \n",
       "1  2646           WALKING            0.208          0.00554          -0.1150   \n",
       "2  5516           SITTING           -0.413          0.25300           0.2230   \n",
       "3  5499          STANDING            0.272         -0.02600          -0.1030   \n",
       "4  4689  WALKING_UPSTAIRS            0.275         -0.03840          -0.0556   \n",
       "\n",
       "   tBodyAcc.std.X  tBodyAcc.std.Y  tBodyAcc.std.Z  tBodyAcc.mad.X  \\\n",
       "0          -0.395          -0.152          -0.196          -0.483   \n",
       "1          -0.432          -0.122          -0.431          -0.470   \n",
       "2          -0.779          -0.569          -0.699          -0.797   \n",
       "3          -0.997          -0.982          -0.983          -0.998   \n",
       "4           0.126           0.102          -0.044           0.104   \n",
       "\n",
       "   tBodyAcc.mad.Y  ...  fBodyBodyGyroJerkMag.meanFreq  \\\n",
       "0          -0.131  ...                          0.395   \n",
       "1          -0.114  ...                         -0.119   \n",
       "2          -0.572  ...                         -0.268   \n",
       "3          -0.981  ...                          0.354   \n",
       "4           0.101  ...                          0.430   \n",
       "\n",
       "   fBodyBodyGyroJerkMag.skewness  fBodyBodyGyroJerkMag.kurtosis  \\\n",
       "0                       -0.26000                         -0.526   \n",
       "1                        0.11200                         -0.171   \n",
       "2                       -0.60800                         -0.891   \n",
       "3                       -0.73500                         -0.926   \n",
       "4                       -0.00277                         -0.263   \n",
       "\n",
       "   angle.tBodyAccMean.gravity  angle.tBodyAccJerkMean.gravityMean  \\\n",
       "0                    -0.03420                              -0.633   \n",
       "1                     0.72500                               0.388   \n",
       "2                     0.08430                               0.917   \n",
       "3                     0.05260                               0.121   \n",
       "4                     0.00825                              -0.854   \n",
       "\n",
       "   angle.tBodyGyroMean.gravityMean  angle.tBodyGyroJerkMean.gravityMean  \\\n",
       "0                          -0.1710                               0.6540   \n",
       "1                           0.9420                              -0.5880   \n",
       "2                          -0.0414                               0.0721   \n",
       "3                          -0.3380                               0.2900   \n",
       "4                           0.7730                              -0.8300   \n",
       "\n",
       "   angle.X.gravityMean  angle.Y.gravityMean  angle.Z.gravityMean  \n",
       "0               -0.556                0.294               0.2570  \n",
       "1               -0.742                0.264              -0.0505  \n",
       "2               -0.434               -0.143              -0.2920  \n",
       "3               -0.854                0.170              -0.0555  \n",
       "4               -0.621                0.325               0.1480  \n",
       "\n",
       "[5 rows x 563 columns]"
      ]
     },
     "execution_count": 2,
     "metadata": {},
     "output_type": "execute_result"
    }
   ],
   "source": [
    "activity=pd.read_csv('C:\\\\Users\\\\HP\\\\Desktop\\\\miscellaneous\\\\College Minor Project\\\\hacr_train.csv')\n",
    "activity.head()"
   ]
  },
  {
   "cell_type": "markdown",
   "metadata": {},
   "source": [
    "### **Data Information**"
   ]
  },
  {
   "cell_type": "code",
   "execution_count": 3,
   "metadata": {},
   "outputs": [
    {
     "name": "stdout",
     "output_type": "stream",
     "text": [
      "<class 'pandas.core.frame.DataFrame'>\n",
      "RangeIndex: 2887 entries, 0 to 2886\n",
      "Columns: 563 entries, rn to angle.Z.gravityMean\n",
      "dtypes: float64(561), int64(1), object(1)\n",
      "memory usage: 12.4+ MB\n"
     ]
    }
   ],
   "source": [
    "activity.info()"
   ]
  },
  {
   "cell_type": "markdown",
   "metadata": {},
   "source": [
    "- There is only one categorical column and that is the target variable"
   ]
  },
  {
   "cell_type": "markdown",
   "metadata": {},
   "source": [
    "### **Data Description**"
   ]
  },
  {
   "cell_type": "code",
   "execution_count": 4,
   "metadata": {},
   "outputs": [
    {
     "data": {
      "text/html": [
       "<div>\n",
       "<style scoped>\n",
       "    .dataframe tbody tr th:only-of-type {\n",
       "        vertical-align: middle;\n",
       "    }\n",
       "\n",
       "    .dataframe tbody tr th {\n",
       "        vertical-align: top;\n",
       "    }\n",
       "\n",
       "    .dataframe thead th {\n",
       "        text-align: right;\n",
       "    }\n",
       "</style>\n",
       "<table border=\"1\" class=\"dataframe\">\n",
       "  <thead>\n",
       "    <tr style=\"text-align: right;\">\n",
       "      <th></th>\n",
       "      <th>rn</th>\n",
       "      <th>tBodyAcc.mean.X</th>\n",
       "      <th>tBodyAcc.mean.Y</th>\n",
       "      <th>tBodyAcc.mean.Z</th>\n",
       "      <th>tBodyAcc.std.X</th>\n",
       "      <th>tBodyAcc.std.Y</th>\n",
       "      <th>tBodyAcc.std.Z</th>\n",
       "      <th>tBodyAcc.mad.X</th>\n",
       "      <th>tBodyAcc.mad.Y</th>\n",
       "      <th>tBodyAcc.mad.Z</th>\n",
       "      <th>...</th>\n",
       "      <th>fBodyBodyGyroJerkMag.meanFreq</th>\n",
       "      <th>fBodyBodyGyroJerkMag.skewness</th>\n",
       "      <th>fBodyBodyGyroJerkMag.kurtosis</th>\n",
       "      <th>angle.tBodyAccMean.gravity</th>\n",
       "      <th>angle.tBodyAccJerkMean.gravityMean</th>\n",
       "      <th>angle.tBodyGyroMean.gravityMean</th>\n",
       "      <th>angle.tBodyGyroJerkMean.gravityMean</th>\n",
       "      <th>angle.X.gravityMean</th>\n",
       "      <th>angle.Y.gravityMean</th>\n",
       "      <th>angle.Z.gravityMean</th>\n",
       "    </tr>\n",
       "  </thead>\n",
       "  <tbody>\n",
       "    <tr>\n",
       "      <th>count</th>\n",
       "      <td>2887.000000</td>\n",
       "      <td>2887.000000</td>\n",
       "      <td>2887.000000</td>\n",
       "      <td>2887.000000</td>\n",
       "      <td>2887.000000</td>\n",
       "      <td>2887.000000</td>\n",
       "      <td>2887.000000</td>\n",
       "      <td>2887.000000</td>\n",
       "      <td>2887.000000</td>\n",
       "      <td>2887.000000</td>\n",
       "      <td>...</td>\n",
       "      <td>2887.000000</td>\n",
       "      <td>2887.000000</td>\n",
       "      <td>2887.000000</td>\n",
       "      <td>2887.000000</td>\n",
       "      <td>2887.000000</td>\n",
       "      <td>2887.000000</td>\n",
       "      <td>2887.000000</td>\n",
       "      <td>2887.000000</td>\n",
       "      <td>2887.000000</td>\n",
       "      <td>2887.000000</td>\n",
       "    </tr>\n",
       "    <tr>\n",
       "      <th>mean</th>\n",
       "      <td>5169.121579</td>\n",
       "      <td>0.274074</td>\n",
       "      <td>-0.017431</td>\n",
       "      <td>-0.108444</td>\n",
       "      <td>-0.606588</td>\n",
       "      <td>-0.502626</td>\n",
       "      <td>-0.609094</td>\n",
       "      <td>-0.633085</td>\n",
       "      <td>-0.518159</td>\n",
       "      <td>-0.610802</td>\n",
       "      <td>...</td>\n",
       "      <td>0.128051</td>\n",
       "      <td>-0.297836</td>\n",
       "      <td>-0.616600</td>\n",
       "      <td>0.006977</td>\n",
       "      <td>0.010181</td>\n",
       "      <td>0.022609</td>\n",
       "      <td>-0.013080</td>\n",
       "      <td>-0.502825</td>\n",
       "      <td>0.061678</td>\n",
       "      <td>-0.045711</td>\n",
       "    </tr>\n",
       "    <tr>\n",
       "      <th>std</th>\n",
       "      <td>2965.237845</td>\n",
       "      <td>0.064050</td>\n",
       "      <td>0.045465</td>\n",
       "      <td>0.057296</td>\n",
       "      <td>0.438564</td>\n",
       "      <td>0.502520</td>\n",
       "      <td>0.402961</td>\n",
       "      <td>0.412450</td>\n",
       "      <td>0.486098</td>\n",
       "      <td>0.398058</td>\n",
       "      <td>...</td>\n",
       "      <td>0.240805</td>\n",
       "      <td>0.319959</td>\n",
       "      <td>0.312446</td>\n",
       "      <td>0.330690</td>\n",
       "      <td>0.450463</td>\n",
       "      <td>0.613873</td>\n",
       "      <td>0.491279</td>\n",
       "      <td>0.504476</td>\n",
       "      <td>0.310989</td>\n",
       "      <td>0.260306</td>\n",
       "    </tr>\n",
       "    <tr>\n",
       "      <th>min</th>\n",
       "      <td>7.000000</td>\n",
       "      <td>-0.521000</td>\n",
       "      <td>-1.000000</td>\n",
       "      <td>-0.575000</td>\n",
       "      <td>-1.000000</td>\n",
       "      <td>-0.999000</td>\n",
       "      <td>-1.000000</td>\n",
       "      <td>-1.000000</td>\n",
       "      <td>-0.999000</td>\n",
       "      <td>-1.000000</td>\n",
       "      <td>...</td>\n",
       "      <td>-0.786000</td>\n",
       "      <td>-0.968000</td>\n",
       "      <td>-0.995000</td>\n",
       "      <td>-0.963000</td>\n",
       "      <td>-0.997000</td>\n",
       "      <td>-1.000000</td>\n",
       "      <td>-0.993000</td>\n",
       "      <td>-0.999000</td>\n",
       "      <td>-1.000000</td>\n",
       "      <td>-0.970000</td>\n",
       "    </tr>\n",
       "    <tr>\n",
       "      <th>25%</th>\n",
       "      <td>2606.000000</td>\n",
       "      <td>0.262000</td>\n",
       "      <td>-0.025400</td>\n",
       "      <td>-0.122000</td>\n",
       "      <td>-0.992000</td>\n",
       "      <td>-0.976000</td>\n",
       "      <td>-0.978000</td>\n",
       "      <td>-0.993000</td>\n",
       "      <td>-0.976000</td>\n",
       "      <td>-0.978000</td>\n",
       "      <td>...</td>\n",
       "      <td>-0.017200</td>\n",
       "      <td>-0.532000</td>\n",
       "      <td>-0.835500</td>\n",
       "      <td>-0.118000</td>\n",
       "      <td>-0.282500</td>\n",
       "      <td>-0.484000</td>\n",
       "      <td>-0.400000</td>\n",
       "      <td>-0.816000</td>\n",
       "      <td>0.001375</td>\n",
       "      <td>-0.117000</td>\n",
       "    </tr>\n",
       "    <tr>\n",
       "      <th>50%</th>\n",
       "      <td>5154.000000</td>\n",
       "      <td>0.277000</td>\n",
       "      <td>-0.017300</td>\n",
       "      <td>-0.109000</td>\n",
       "      <td>-0.937000</td>\n",
       "      <td>-0.809000</td>\n",
       "      <td>-0.834000</td>\n",
       "      <td>-0.944000</td>\n",
       "      <td>-0.812000</td>\n",
       "      <td>-0.831000</td>\n",
       "      <td>...</td>\n",
       "      <td>0.131000</td>\n",
       "      <td>-0.341000</td>\n",
       "      <td>-0.706000</td>\n",
       "      <td>0.007220</td>\n",
       "      <td>0.010700</td>\n",
       "      <td>0.021000</td>\n",
       "      <td>-0.015600</td>\n",
       "      <td>-0.717000</td>\n",
       "      <td>0.184000</td>\n",
       "      <td>-0.003100</td>\n",
       "    </tr>\n",
       "    <tr>\n",
       "      <th>75%</th>\n",
       "      <td>7731.000000</td>\n",
       "      <td>0.288000</td>\n",
       "      <td>-0.010900</td>\n",
       "      <td>-0.097650</td>\n",
       "      <td>-0.254500</td>\n",
       "      <td>-0.047300</td>\n",
       "      <td>-0.280500</td>\n",
       "      <td>-0.306000</td>\n",
       "      <td>-0.079400</td>\n",
       "      <td>-0.284500</td>\n",
       "      <td>...</td>\n",
       "      <td>0.286000</td>\n",
       "      <td>-0.117500</td>\n",
       "      <td>-0.496000</td>\n",
       "      <td>0.141500</td>\n",
       "      <td>0.313500</td>\n",
       "      <td>0.549500</td>\n",
       "      <td>0.371500</td>\n",
       "      <td>-0.529500</td>\n",
       "      <td>0.253000</td>\n",
       "      <td>0.107000</td>\n",
       "    </tr>\n",
       "    <tr>\n",
       "      <th>max</th>\n",
       "      <td>10281.000000</td>\n",
       "      <td>0.633000</td>\n",
       "      <td>1.000000</td>\n",
       "      <td>1.000000</td>\n",
       "      <td>1.000000</td>\n",
       "      <td>0.980000</td>\n",
       "      <td>1.000000</td>\n",
       "      <td>1.000000</td>\n",
       "      <td>0.988000</td>\n",
       "      <td>1.000000</td>\n",
       "      <td>...</td>\n",
       "      <td>0.871000</td>\n",
       "      <td>0.990000</td>\n",
       "      <td>0.957000</td>\n",
       "      <td>0.981000</td>\n",
       "      <td>0.997000</td>\n",
       "      <td>0.999000</td>\n",
       "      <td>0.982000</td>\n",
       "      <td>0.977000</td>\n",
       "      <td>0.999000</td>\n",
       "      <td>0.998000</td>\n",
       "    </tr>\n",
       "  </tbody>\n",
       "</table>\n",
       "<p>8 rows × 562 columns</p>\n",
       "</div>"
      ],
      "text/plain": [
       "                 rn  tBodyAcc.mean.X  tBodyAcc.mean.Y  tBodyAcc.mean.Z  \\\n",
       "count   2887.000000      2887.000000      2887.000000      2887.000000   \n",
       "mean    5169.121579         0.274074        -0.017431        -0.108444   \n",
       "std     2965.237845         0.064050         0.045465         0.057296   \n",
       "min        7.000000        -0.521000        -1.000000        -0.575000   \n",
       "25%     2606.000000         0.262000        -0.025400        -0.122000   \n",
       "50%     5154.000000         0.277000        -0.017300        -0.109000   \n",
       "75%     7731.000000         0.288000        -0.010900        -0.097650   \n",
       "max    10281.000000         0.633000         1.000000         1.000000   \n",
       "\n",
       "       tBodyAcc.std.X  tBodyAcc.std.Y  tBodyAcc.std.Z  tBodyAcc.mad.X  \\\n",
       "count     2887.000000     2887.000000     2887.000000     2887.000000   \n",
       "mean        -0.606588       -0.502626       -0.609094       -0.633085   \n",
       "std          0.438564        0.502520        0.402961        0.412450   \n",
       "min         -1.000000       -0.999000       -1.000000       -1.000000   \n",
       "25%         -0.992000       -0.976000       -0.978000       -0.993000   \n",
       "50%         -0.937000       -0.809000       -0.834000       -0.944000   \n",
       "75%         -0.254500       -0.047300       -0.280500       -0.306000   \n",
       "max          1.000000        0.980000        1.000000        1.000000   \n",
       "\n",
       "       tBodyAcc.mad.Y  tBodyAcc.mad.Z  ...  fBodyBodyGyroJerkMag.meanFreq  \\\n",
       "count     2887.000000     2887.000000  ...                    2887.000000   \n",
       "mean        -0.518159       -0.610802  ...                       0.128051   \n",
       "std          0.486098        0.398058  ...                       0.240805   \n",
       "min         -0.999000       -1.000000  ...                      -0.786000   \n",
       "25%         -0.976000       -0.978000  ...                      -0.017200   \n",
       "50%         -0.812000       -0.831000  ...                       0.131000   \n",
       "75%         -0.079400       -0.284500  ...                       0.286000   \n",
       "max          0.988000        1.000000  ...                       0.871000   \n",
       "\n",
       "       fBodyBodyGyroJerkMag.skewness  fBodyBodyGyroJerkMag.kurtosis  \\\n",
       "count                    2887.000000                    2887.000000   \n",
       "mean                       -0.297836                      -0.616600   \n",
       "std                         0.319959                       0.312446   \n",
       "min                        -0.968000                      -0.995000   \n",
       "25%                        -0.532000                      -0.835500   \n",
       "50%                        -0.341000                      -0.706000   \n",
       "75%                        -0.117500                      -0.496000   \n",
       "max                         0.990000                       0.957000   \n",
       "\n",
       "       angle.tBodyAccMean.gravity  angle.tBodyAccJerkMean.gravityMean  \\\n",
       "count                 2887.000000                         2887.000000   \n",
       "mean                     0.006977                            0.010181   \n",
       "std                      0.330690                            0.450463   \n",
       "min                     -0.963000                           -0.997000   \n",
       "25%                     -0.118000                           -0.282500   \n",
       "50%                      0.007220                            0.010700   \n",
       "75%                      0.141500                            0.313500   \n",
       "max                      0.981000                            0.997000   \n",
       "\n",
       "       angle.tBodyGyroMean.gravityMean  angle.tBodyGyroJerkMean.gravityMean  \\\n",
       "count                      2887.000000                          2887.000000   \n",
       "mean                          0.022609                            -0.013080   \n",
       "std                           0.613873                             0.491279   \n",
       "min                          -1.000000                            -0.993000   \n",
       "25%                          -0.484000                            -0.400000   \n",
       "50%                           0.021000                            -0.015600   \n",
       "75%                           0.549500                             0.371500   \n",
       "max                           0.999000                             0.982000   \n",
       "\n",
       "       angle.X.gravityMean  angle.Y.gravityMean  angle.Z.gravityMean  \n",
       "count          2887.000000          2887.000000          2887.000000  \n",
       "mean             -0.502825             0.061678            -0.045711  \n",
       "std               0.504476             0.310989             0.260306  \n",
       "min              -0.999000            -1.000000            -0.970000  \n",
       "25%              -0.816000             0.001375            -0.117000  \n",
       "50%              -0.717000             0.184000            -0.003100  \n",
       "75%              -0.529500             0.253000             0.107000  \n",
       "max               0.977000             0.999000             0.998000  \n",
       "\n",
       "[8 rows x 562 columns]"
      ]
     },
     "execution_count": 4,
     "metadata": {},
     "output_type": "execute_result"
    }
   ],
   "source": [
    "activity.describe()"
   ]
  },
  {
   "cell_type": "markdown",
   "metadata": {},
   "source": [
    "- We can't analyse 563 columns at a time therefore will apply **PCA** for dimentionality reduction"
   ]
  },
  {
   "cell_type": "code",
   "execution_count": 5,
   "metadata": {},
   "outputs": [
    {
     "data": {
      "text/plain": [
       "STANDING              550\n",
       "LAYING                529\n",
       "SITTING               491\n",
       "WALKING               477\n",
       "WALKING_UPSTAIRS      444\n",
       "WALKING_DOWNSTAIRS    396\n",
       "Name: activity, dtype: int64"
      ]
     },
     "execution_count": 5,
     "metadata": {},
     "output_type": "execute_result"
    }
   ],
   "source": [
    "activity['activity'].value_counts()"
   ]
  },
  {
   "cell_type": "markdown",
   "metadata": {},
   "source": [
    "- As the number of number of Standing, Laying, Sitting, Walking, Walking_downstairs and Walking_upstairs are almost same hence this is a balanced dataset."
   ]
  },
  {
   "cell_type": "code",
   "execution_count": 6,
   "metadata": {},
   "outputs": [],
   "source": [
    "activity.drop('rn',axis=1,inplace=True)"
   ]
  },
  {
   "cell_type": "markdown",
   "metadata": {},
   "source": [
    "- Since rn was a unique ID column hence dropped it"
   ]
  },
  {
   "cell_type": "markdown",
   "metadata": {},
   "source": [
    "### Check for missing values"
   ]
  },
  {
   "cell_type": "code",
   "execution_count": 7,
   "metadata": {},
   "outputs": [
    {
     "data": {
      "text/plain": [
       "False"
      ]
     },
     "execution_count": 7,
     "metadata": {},
     "output_type": "execute_result"
    }
   ],
   "source": [
    "activity.isnull().sum().any()"
   ]
  },
  {
   "cell_type": "markdown",
   "metadata": {},
   "source": [
    "- There are **no** missing values in the data."
   ]
  },
  {
   "cell_type": "markdown",
   "metadata": {},
   "source": [
    "# 3. Building Model"
   ]
  },
  {
   "cell_type": "code",
   "execution_count": 8,
   "metadata": {},
   "outputs": [],
   "source": [
    "def new_target(i):\n",
    "    if i == 'STANDING':\n",
    "        return 0\n",
    "    elif i =='LAYING':\n",
    "        return 1\n",
    "    elif i =='SITTING':\n",
    "        return 2\n",
    "    elif i =='WALKING':\n",
    "        return 3\n",
    "    elif i =='WALKING_UPSTAIRS':\n",
    "        return 4\n",
    "    else:\n",
    "        return 5"
   ]
  },
  {
   "cell_type": "code",
   "execution_count": 9,
   "metadata": {},
   "outputs": [],
   "source": [
    "activity['final_activity']=activity['activity'].apply(new_target)"
   ]
  },
  {
   "cell_type": "code",
   "execution_count": 10,
   "metadata": {},
   "outputs": [
    {
     "data": {
      "text/plain": [
       "array([4, 3, 2, 0, 5, 1], dtype=int64)"
      ]
     },
     "execution_count": 10,
     "metadata": {},
     "output_type": "execute_result"
    }
   ],
   "source": [
    "activity['final_activity'].unique()"
   ]
  },
  {
   "cell_type": "code",
   "execution_count": 11,
   "metadata": {},
   "outputs": [],
   "source": [
    "activity.drop('activity',axis=1,inplace=True)"
   ]
  },
  {
   "cell_type": "code",
   "execution_count": 12,
   "metadata": {},
   "outputs": [
    {
     "data": {
      "text/html": [
       "<div>\n",
       "<style scoped>\n",
       "    .dataframe tbody tr th:only-of-type {\n",
       "        vertical-align: middle;\n",
       "    }\n",
       "\n",
       "    .dataframe tbody tr th {\n",
       "        vertical-align: top;\n",
       "    }\n",
       "\n",
       "    .dataframe thead th {\n",
       "        text-align: right;\n",
       "    }\n",
       "</style>\n",
       "<table border=\"1\" class=\"dataframe\">\n",
       "  <thead>\n",
       "    <tr style=\"text-align: right;\">\n",
       "      <th></th>\n",
       "      <th>tBodyAcc.mean.X</th>\n",
       "      <th>tBodyAcc.mean.Y</th>\n",
       "      <th>tBodyAcc.mean.Z</th>\n",
       "      <th>tBodyAcc.std.X</th>\n",
       "      <th>tBodyAcc.std.Y</th>\n",
       "      <th>tBodyAcc.std.Z</th>\n",
       "      <th>tBodyAcc.mad.X</th>\n",
       "      <th>tBodyAcc.mad.Y</th>\n",
       "      <th>tBodyAcc.mad.Z</th>\n",
       "      <th>tBodyAcc.max.X</th>\n",
       "      <th>...</th>\n",
       "      <th>fBodyBodyGyroJerkMag.meanFreq</th>\n",
       "      <th>fBodyBodyGyroJerkMag.skewness</th>\n",
       "      <th>fBodyBodyGyroJerkMag.kurtosis</th>\n",
       "      <th>angle.tBodyAccMean.gravity</th>\n",
       "      <th>angle.tBodyAccJerkMean.gravityMean</th>\n",
       "      <th>angle.tBodyGyroMean.gravityMean</th>\n",
       "      <th>angle.tBodyGyroJerkMean.gravityMean</th>\n",
       "      <th>angle.X.gravityMean</th>\n",
       "      <th>angle.Y.gravityMean</th>\n",
       "      <th>angle.Z.gravityMean</th>\n",
       "    </tr>\n",
       "  </thead>\n",
       "  <tbody>\n",
       "    <tr>\n",
       "      <th>0</th>\n",
       "      <td>0.330</td>\n",
       "      <td>-0.00449</td>\n",
       "      <td>-0.0481</td>\n",
       "      <td>-0.395</td>\n",
       "      <td>-0.152</td>\n",
       "      <td>-0.196</td>\n",
       "      <td>-0.483</td>\n",
       "      <td>-0.131</td>\n",
       "      <td>-0.1970</td>\n",
       "      <td>-0.0627</td>\n",
       "      <td>...</td>\n",
       "      <td>0.395</td>\n",
       "      <td>-0.26000</td>\n",
       "      <td>-0.526</td>\n",
       "      <td>-0.03420</td>\n",
       "      <td>-0.633</td>\n",
       "      <td>-0.1710</td>\n",
       "      <td>0.6540</td>\n",
       "      <td>-0.556</td>\n",
       "      <td>0.294</td>\n",
       "      <td>0.2570</td>\n",
       "    </tr>\n",
       "    <tr>\n",
       "      <th>1</th>\n",
       "      <td>0.208</td>\n",
       "      <td>0.00554</td>\n",
       "      <td>-0.1150</td>\n",
       "      <td>-0.432</td>\n",
       "      <td>-0.122</td>\n",
       "      <td>-0.431</td>\n",
       "      <td>-0.470</td>\n",
       "      <td>-0.114</td>\n",
       "      <td>-0.4300</td>\n",
       "      <td>-0.1800</td>\n",
       "      <td>...</td>\n",
       "      <td>-0.119</td>\n",
       "      <td>0.11200</td>\n",
       "      <td>-0.171</td>\n",
       "      <td>0.72500</td>\n",
       "      <td>0.388</td>\n",
       "      <td>0.9420</td>\n",
       "      <td>-0.5880</td>\n",
       "      <td>-0.742</td>\n",
       "      <td>0.264</td>\n",
       "      <td>-0.0505</td>\n",
       "    </tr>\n",
       "    <tr>\n",
       "      <th>2</th>\n",
       "      <td>-0.413</td>\n",
       "      <td>0.25300</td>\n",
       "      <td>0.2230</td>\n",
       "      <td>-0.779</td>\n",
       "      <td>-0.569</td>\n",
       "      <td>-0.699</td>\n",
       "      <td>-0.797</td>\n",
       "      <td>-0.572</td>\n",
       "      <td>-0.6840</td>\n",
       "      <td>-0.9740</td>\n",
       "      <td>...</td>\n",
       "      <td>-0.268</td>\n",
       "      <td>-0.60800</td>\n",
       "      <td>-0.891</td>\n",
       "      <td>0.08430</td>\n",
       "      <td>0.917</td>\n",
       "      <td>-0.0414</td>\n",
       "      <td>0.0721</td>\n",
       "      <td>-0.434</td>\n",
       "      <td>-0.143</td>\n",
       "      <td>-0.2920</td>\n",
       "    </tr>\n",
       "    <tr>\n",
       "      <th>3</th>\n",
       "      <td>0.272</td>\n",
       "      <td>-0.02600</td>\n",
       "      <td>-0.1030</td>\n",
       "      <td>-0.997</td>\n",
       "      <td>-0.982</td>\n",
       "      <td>-0.983</td>\n",
       "      <td>-0.998</td>\n",
       "      <td>-0.981</td>\n",
       "      <td>-0.9830</td>\n",
       "      <td>-0.9450</td>\n",
       "      <td>...</td>\n",
       "      <td>0.354</td>\n",
       "      <td>-0.73500</td>\n",
       "      <td>-0.926</td>\n",
       "      <td>0.05260</td>\n",
       "      <td>0.121</td>\n",
       "      <td>-0.3380</td>\n",
       "      <td>0.2900</td>\n",
       "      <td>-0.854</td>\n",
       "      <td>0.170</td>\n",
       "      <td>-0.0555</td>\n",
       "    </tr>\n",
       "    <tr>\n",
       "      <th>4</th>\n",
       "      <td>0.275</td>\n",
       "      <td>-0.03840</td>\n",
       "      <td>-0.0556</td>\n",
       "      <td>0.126</td>\n",
       "      <td>0.102</td>\n",
       "      <td>-0.044</td>\n",
       "      <td>0.104</td>\n",
       "      <td>0.101</td>\n",
       "      <td>-0.0532</td>\n",
       "      <td>0.2120</td>\n",
       "      <td>...</td>\n",
       "      <td>0.430</td>\n",
       "      <td>-0.00277</td>\n",
       "      <td>-0.263</td>\n",
       "      <td>0.00825</td>\n",
       "      <td>-0.854</td>\n",
       "      <td>0.7730</td>\n",
       "      <td>-0.8300</td>\n",
       "      <td>-0.621</td>\n",
       "      <td>0.325</td>\n",
       "      <td>0.1480</td>\n",
       "    </tr>\n",
       "  </tbody>\n",
       "</table>\n",
       "<p>5 rows × 561 columns</p>\n",
       "</div>"
      ],
      "text/plain": [
       "   tBodyAcc.mean.X  tBodyAcc.mean.Y  tBodyAcc.mean.Z  tBodyAcc.std.X  \\\n",
       "0            0.330         -0.00449          -0.0481          -0.395   \n",
       "1            0.208          0.00554          -0.1150          -0.432   \n",
       "2           -0.413          0.25300           0.2230          -0.779   \n",
       "3            0.272         -0.02600          -0.1030          -0.997   \n",
       "4            0.275         -0.03840          -0.0556           0.126   \n",
       "\n",
       "   tBodyAcc.std.Y  tBodyAcc.std.Z  tBodyAcc.mad.X  tBodyAcc.mad.Y  \\\n",
       "0          -0.152          -0.196          -0.483          -0.131   \n",
       "1          -0.122          -0.431          -0.470          -0.114   \n",
       "2          -0.569          -0.699          -0.797          -0.572   \n",
       "3          -0.982          -0.983          -0.998          -0.981   \n",
       "4           0.102          -0.044           0.104           0.101   \n",
       "\n",
       "   tBodyAcc.mad.Z  tBodyAcc.max.X  ...  fBodyBodyGyroJerkMag.meanFreq  \\\n",
       "0         -0.1970         -0.0627  ...                          0.395   \n",
       "1         -0.4300         -0.1800  ...                         -0.119   \n",
       "2         -0.6840         -0.9740  ...                         -0.268   \n",
       "3         -0.9830         -0.9450  ...                          0.354   \n",
       "4         -0.0532          0.2120  ...                          0.430   \n",
       "\n",
       "   fBodyBodyGyroJerkMag.skewness  fBodyBodyGyroJerkMag.kurtosis  \\\n",
       "0                       -0.26000                         -0.526   \n",
       "1                        0.11200                         -0.171   \n",
       "2                       -0.60800                         -0.891   \n",
       "3                       -0.73500                         -0.926   \n",
       "4                       -0.00277                         -0.263   \n",
       "\n",
       "   angle.tBodyAccMean.gravity  angle.tBodyAccJerkMean.gravityMean  \\\n",
       "0                    -0.03420                              -0.633   \n",
       "1                     0.72500                               0.388   \n",
       "2                     0.08430                               0.917   \n",
       "3                     0.05260                               0.121   \n",
       "4                     0.00825                              -0.854   \n",
       "\n",
       "   angle.tBodyGyroMean.gravityMean  angle.tBodyGyroJerkMean.gravityMean  \\\n",
       "0                          -0.1710                               0.6540   \n",
       "1                           0.9420                              -0.5880   \n",
       "2                          -0.0414                               0.0721   \n",
       "3                          -0.3380                               0.2900   \n",
       "4                           0.7730                              -0.8300   \n",
       "\n",
       "   angle.X.gravityMean  angle.Y.gravityMean  angle.Z.gravityMean  \n",
       "0               -0.556                0.294               0.2570  \n",
       "1               -0.742                0.264              -0.0505  \n",
       "2               -0.434               -0.143              -0.2920  \n",
       "3               -0.854                0.170              -0.0555  \n",
       "4               -0.621                0.325               0.1480  \n",
       "\n",
       "[5 rows x 561 columns]"
      ]
     },
     "execution_count": 12,
     "metadata": {},
     "output_type": "execute_result"
    }
   ],
   "source": [
    "X = activity.loc[:, activity.columns != 'final_activity']\n",
    "X.head()"
   ]
  },
  {
   "cell_type": "code",
   "execution_count": 13,
   "metadata": {},
   "outputs": [
    {
     "data": {
      "text/plain": [
       "array([4, 3, 2, 0, 5, 1], dtype=int64)"
      ]
     },
     "execution_count": 13,
     "metadata": {},
     "output_type": "execute_result"
    }
   ],
   "source": [
    "y = activity.loc[:, activity.columns == 'final_activity']\n",
    "y['final_activity'].unique()"
   ]
  },
  {
   "cell_type": "markdown",
   "metadata": {},
   "source": [
    "- Dividing data into train and test"
   ]
  },
  {
   "cell_type": "code",
   "execution_count": 14,
   "metadata": {},
   "outputs": [],
   "source": [
    "from sklearn.model_selection import train_test_split\n",
    "X_train, X_test, y_train, y_test = train_test_split(X, y, test_size=0.20, random_state=1)"
   ]
  },
  {
   "cell_type": "code",
   "execution_count": 15,
   "metadata": {},
   "outputs": [
    {
     "name": "stdout",
     "output_type": "stream",
     "text": [
      "(2309, 561)\n",
      "(2309, 1)\n"
     ]
    }
   ],
   "source": [
    "print(X_train.shape)\n",
    "print(y_train.shape)"
   ]
  },
  {
   "cell_type": "code",
   "execution_count": 16,
   "metadata": {},
   "outputs": [
    {
     "name": "stdout",
     "output_type": "stream",
     "text": [
      "(578, 561)\n",
      "(578, 1)\n"
     ]
    }
   ],
   "source": [
    "print(X_test.shape)\n",
    "print(y_test.shape)"
   ]
  },
  {
   "cell_type": "code",
   "execution_count": 17,
   "metadata": {},
   "outputs": [],
   "source": [
    "from sklearn.preprocessing import StandardScaler\n",
    "sc = StandardScaler()\n",
    "X_train=sc.fit_transform(X_train)\n",
    "X_test=sc.transform(X_test)"
   ]
  },
  {
   "cell_type": "markdown",
   "metadata": {},
   "source": [
    "- Since there are 563 columns hence reducing the dimensions by using **PCA**"
   ]
  },
  {
   "cell_type": "code",
   "execution_count": 18,
   "metadata": {},
   "outputs": [],
   "source": [
    "from sklearn.decomposition import PCA"
   ]
  },
  {
   "cell_type": "markdown",
   "metadata": {},
   "source": [
    "- We are specifying **80% variance** (0.80) to be explained by our PCA model out of a total of 100%.\n",
    "\n"
   ]
  },
  {
   "cell_type": "code",
   "execution_count": 19,
   "metadata": {},
   "outputs": [],
   "source": [
    "pca = PCA(0.8,random_state=41).fit(X_train)\n",
    "var=np.cumsum(np.round(a=pca.explained_variance_ratio_,decimals=4)*100)"
   ]
  },
  {
   "cell_type": "code",
   "execution_count": 20,
   "metadata": {},
   "outputs": [
    {
     "data": {
      "image/png": "[encoded data removed]",
      "text/plain": [
       "<Figure size 432x288 with 1 Axes>"
      ]
     },
     "metadata": {
      "needs_background": "light"
     },
     "output_type": "display_data"
    }
   ],
   "source": [
    "plt.plot(var)\n",
    "plt.ylabel('% Variance Explained')\n",
    "plt.xlabel('Number of Features')\n",
    "plt.title('PCA Analysis')\n",
    "plt.ylim(30, 100.5)\n",
    "plt.style.context('seaborn-whitegrid')\n",
    "plt.show()"
   ]
  },
  {
   "cell_type": "code",
   "execution_count": 21,
   "metadata": {},
   "outputs": [
    {
     "name": "stdout",
     "output_type": "stream",
     "text": [
      "26 components explain 80% of the variation in data\n"
     ]
    }
   ],
   "source": [
    "print('%d components explain 80%% of the variation in data' % pca.n_components_)"
   ]
  },
  {
   "cell_type": "markdown",
   "metadata": {},
   "source": [
    "- Therefore out of 563 variables 26 varibales are able to explain 80% variance in the target variable\n"
   ]
  },
  {
   "cell_type": "code",
   "execution_count": 22,
   "metadata": {},
   "outputs": [],
   "source": [
    "pca=PCA(n_components=26)\n",
    "X_pca_train=pca.fit_transform(X_train)\n",
    "X_pca_test=pca.transform(X_test)"
   ]
  },
  {
   "cell_type": "markdown",
   "metadata": {},
   "source": [
    "# 4. Developing Model\n"
   ]
  },
  {
   "cell_type": "markdown",
   "metadata": {},
   "source": [
    "- Importing libraries for training a classification model"
   ]
  },
  {
   "cell_type": "code",
   "execution_count": 23,
   "metadata": {},
   "outputs": [],
   "source": [
    "from sklearn.linear_model import LogisticRegression\n",
    "from sklearn.ensemble import RandomForestClassifier\n",
    "from sklearn.neighbors import KNeighborsClassifier\n",
    "from sklearn.ensemble import GradientBoostingClassifier\n",
    "from sklearn.ensemble import StackingClassifier\n",
    "from sklearn.naive_bayes import GaussianNB"
   ]
  },
  {
   "cell_type": "code",
   "execution_count": 24,
   "metadata": {},
   "outputs": [],
   "source": [
    "estimators=[('Naive Bayes',GaussianNB()),\n",
    "            ('KNN',KNeighborsClassifier()),\n",
    "            ('Random Forest',RandomForestClassifier()),\n",
    "            ('Logistic Regression',LogisticRegression())]"
   ]
  },
  {
   "cell_type": "code",
   "execution_count": 25,
   "metadata": {},
   "outputs": [
    {
     "name": "stderr",
     "output_type": "stream",
     "text": [
      "c:\\users\\hp\\appdata\\local\\programs\\python\\python37-32\\lib\\site-packages\\sklearn\\utils\\validation.py:63: DataConversionWarning: A column-vector y was passed when a 1d array was expected. Please change the shape of y to (n_samples, ), for example using ravel().\n",
      "  return f(*args, **kwargs)\n",
      "c:\\users\\hp\\appdata\\local\\programs\\python\\python37-32\\lib\\site-packages\\sklearn\\linear_model\\_logistic.py:765: ConvergenceWarning: lbfgs failed to converge (status=1):\n",
      "STOP: TOTAL NO. of ITERATIONS REACHED LIMIT.\n",
      "\n",
      "Increase the number of iterations (max_iter) or scale the data as shown in:\n",
      "    https://scikit-learn.org/stable/modules/preprocessing.html\n",
      "Please also refer to the documentation for alternative solver options:\n",
      "    https://scikit-learn.org/stable/modules/linear_model.html#logistic-regression\n",
      "  extra_warning_msg=_LOGISTIC_SOLVER_CONVERGENCE_MSG)\n",
      "c:\\users\\hp\\appdata\\local\\programs\\python\\python37-32\\lib\\site-packages\\sklearn\\linear_model\\_logistic.py:765: ConvergenceWarning: lbfgs failed to converge (status=1):\n",
      "STOP: TOTAL NO. of ITERATIONS REACHED LIMIT.\n",
      "\n",
      "Increase the number of iterations (max_iter) or scale the data as shown in:\n",
      "    https://scikit-learn.org/stable/modules/preprocessing.html\n",
      "Please also refer to the documentation for alternative solver options:\n",
      "    https://scikit-learn.org/stable/modules/linear_model.html#logistic-regression\n",
      "  extra_warning_msg=_LOGISTIC_SOLVER_CONVERGENCE_MSG)\n",
      "c:\\users\\hp\\appdata\\local\\programs\\python\\python37-32\\lib\\site-packages\\sklearn\\linear_model\\_logistic.py:765: ConvergenceWarning: lbfgs failed to converge (status=1):\n",
      "STOP: TOTAL NO. of ITERATIONS REACHED LIMIT.\n",
      "\n",
      "Increase the number of iterations (max_iter) or scale the data as shown in:\n",
      "    https://scikit-learn.org/stable/modules/preprocessing.html\n",
      "Please also refer to the documentation for alternative solver options:\n",
      "    https://scikit-learn.org/stable/modules/linear_model.html#logistic-regression\n",
      "  extra_warning_msg=_LOGISTIC_SOLVER_CONVERGENCE_MSG)\n",
      "c:\\users\\hp\\appdata\\local\\programs\\python\\python37-32\\lib\\site-packages\\sklearn\\linear_model\\_logistic.py:765: ConvergenceWarning: lbfgs failed to converge (status=1):\n",
      "STOP: TOTAL NO. of ITERATIONS REACHED LIMIT.\n",
      "\n",
      "Increase the number of iterations (max_iter) or scale the data as shown in:\n",
      "    https://scikit-learn.org/stable/modules/preprocessing.html\n",
      "Please also refer to the documentation for alternative solver options:\n",
      "    https://scikit-learn.org/stable/modules/linear_model.html#logistic-regression\n",
      "  extra_warning_msg=_LOGISTIC_SOLVER_CONVERGENCE_MSG)\n",
      "c:\\users\\hp\\appdata\\local\\programs\\python\\python37-32\\lib\\site-packages\\sklearn\\linear_model\\_logistic.py:765: ConvergenceWarning: lbfgs failed to converge (status=1):\n",
      "STOP: TOTAL NO. of ITERATIONS REACHED LIMIT.\n",
      "\n",
      "Increase the number of iterations (max_iter) or scale the data as shown in:\n",
      "    https://scikit-learn.org/stable/modules/preprocessing.html\n",
      "Please also refer to the documentation for alternative solver options:\n",
      "    https://scikit-learn.org/stable/modules/linear_model.html#logistic-regression\n",
      "  extra_warning_msg=_LOGISTIC_SOLVER_CONVERGENCE_MSG)\n",
      "c:\\users\\hp\\appdata\\local\\programs\\python\\python37-32\\lib\\site-packages\\sklearn\\linear_model\\_logistic.py:765: ConvergenceWarning: lbfgs failed to converge (status=1):\n",
      "STOP: TOTAL NO. of ITERATIONS REACHED LIMIT.\n",
      "\n",
      "Increase the number of iterations (max_iter) or scale the data as shown in:\n",
      "    https://scikit-learn.org/stable/modules/preprocessing.html\n",
      "Please also refer to the documentation for alternative solver options:\n",
      "    https://scikit-learn.org/stable/modules/linear_model.html#logistic-regression\n",
      "  extra_warning_msg=_LOGISTIC_SOLVER_CONVERGENCE_MSG)\n"
     ]
    },
    {
     "data": {
      "text/plain": [
       "StackingClassifier(cv=5,\n",
       "                   estimators=[('Naive Bayes', GaussianNB()),\n",
       "                               ('KNN', KNeighborsClassifier()),\n",
       "                               ('Random Forest', RandomForestClassifier()),\n",
       "                               ('Logistic Regression', LogisticRegression())],\n",
       "                   final_estimator=GradientBoostingClassifier())"
      ]
     },
     "execution_count": 25,
     "metadata": {},
     "output_type": "execute_result"
    }
   ],
   "source": [
    "stack_clf=StackingClassifier(estimators=estimators, final_estimator=GradientBoostingClassifier(),cv=5)\n",
    "stack_clf.fit(X_pca_train,y_train)"
   ]
  },
  {
   "cell_type": "code",
   "execution_count": 26,
   "metadata": {},
   "outputs": [],
   "source": [
    "y_pred_test=stack_clf.predict(X_pca_test)"
   ]
  },
  {
   "cell_type": "code",
   "execution_count": 27,
   "metadata": {},
   "outputs": [],
   "source": [
    "y_pred_train=stack_clf.predict(X_pca_train)"
   ]
  },
  {
   "cell_type": "markdown",
   "metadata": {},
   "source": [
    "# 5. Accuracy Measurement "
   ]
  },
  {
   "cell_type": "code",
   "execution_count": 28,
   "metadata": {},
   "outputs": [],
   "source": [
    "from sklearn.metrics import accuracy_score\n",
    "from sklearn.metrics import recall_score\n",
    "from sklearn.metrics import precision_score\n",
    "from sklearn.metrics import f1_score"
   ]
  },
  {
   "cell_type": "code",
   "execution_count": 29,
   "metadata": {},
   "outputs": [
    {
     "name": "stdout",
     "output_type": "stream",
     "text": [
      "Precision Score :  0.9238754325259516\n",
      "Recall Score :  0.9238754325259516\n",
      "F1 Score :  0.9238754325259516\n",
      "Accuracy Score :  0.9238754325259516\n"
     ]
    }
   ],
   "source": [
    "print(\"Precision Score : \",precision_score(y_test, y_pred_test, \n",
    "                                           \n",
    "                                           average='micro'))\n",
    "print(\"Recall Score : \",recall_score(y_test, y_pred_test, \n",
    "                                           \n",
    "                                           average='micro'))\n",
    "print(\"F1 Score : \",f1_score(y_test, y_pred_test, \n",
    "                             \n",
    "                             average='micro'))\n",
    "print(\"Accuracy Score : \",accuracy_score(y_test, y_pred_test))\n"
   ]
  },
  {
   "cell_type": "code",
   "execution_count": 30,
   "metadata": {},
   "outputs": [
    {
     "name": "stdout",
     "output_type": "stream",
     "text": [
      "Precision Score :  0.9692507579038545\n",
      "Recall Score :  0.9692507579038545\n",
      "F1 Score :  0.9692507579038545\n",
      "Accuracy Score :  0.9692507579038545\n"
     ]
    }
   ],
   "source": [
    "print(\"Precision Score : \",precision_score(y_train, y_pred_train, \n",
    "                                           \n",
    "                                           average='micro'))\n",
    "print(\"Recall Score : \",recall_score(y_train, y_pred_train, \n",
    "                                           \n",
    "                                           average='micro'))\n",
    "print(\"F1 Score : \",f1_score(y_train, y_pred_train, \n",
    "                             \n",
    "                             average='micro'))\n",
    "print(\"Accuracy Score : \",accuracy_score(y_train, y_pred_train))"
   ]
  },
  {
   "cell_type": "markdown",
   "metadata": {},
   "source": [
    "- Testing accuracy is 92.4% and trainig accuracy is 96.25%"
   ]
  },
  {
   "cell_type": "code",
   "execution_count": null,
   "metadata": {},
   "outputs": [],
   "source": []
  }
 ],
 "metadata": {
  "kernelspec": {
   "display_name": "Python 3",
   "language": "python",
   "name": "python3"
  },
  "language_info": {
   "codemirror_mode": {
    "name": "ipython",
    "version": 3
   },
   "file_extension": ".py",
   "mimetype": "text/x-python",
   "name": "python",
   "nbconvert_exporter": "python",
   "pygments_lexer": "ipython3",
   "version": "3.7.4"
  }
 },
 "nbformat": 4,
 "nbformat_minor": 4
}
